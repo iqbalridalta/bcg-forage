{
 "cells": [
  {
   "cell_type": "code",
   "execution_count": 3,
   "metadata": {},
   "outputs": [],
   "source": [
    "import pandas as pd\n",
    "import numpy as np\n",
    "import matplotlib.pyplot as plt\n",
    "import seaborn as sns\n",
    "import os\n",
    "from datetime import datetime, date, timedelta"
   ]
  },
  {
   "cell_type": "code",
   "execution_count": 4,
   "metadata": {},
   "outputs": [],
   "source": [
    "import warnings\n",
    "warnings.filterwarnings(\"ignore\")"
   ]
  },
  {
   "cell_type": "markdown",
   "metadata": {},
   "source": [
    "Set the directory"
   ]
  },
  {
   "cell_type": "code",
   "execution_count": 5,
   "metadata": {},
   "outputs": [],
   "source": [
    "os.chdir('D:\\Disc Baru\\Online Clas\\Forage\\BCG Gamma Analytics\\part-2')"
   ]
  },
  {
   "cell_type": "code",
   "execution_count": 6,
   "metadata": {},
   "outputs": [],
   "source": [
    "data = pd.read_csv('ml_case_training_data.csv')"
   ]
  },
  {
   "cell_type": "markdown",
   "metadata": {},
   "source": [
    "# Data Summary & Exploration"
   ]
  },
  {
   "cell_type": "markdown",
   "metadata": {},
   "source": [
    "Data Summary"
   ]
  },
  {
   "cell_type": "code",
   "execution_count": 7,
   "metadata": {},
   "outputs": [
    {
     "name": "stdout",
     "output_type": "stream",
     "text": [
      "<class 'pandas.core.frame.DataFrame'>\n",
      "RangeIndex: 16096 entries, 0 to 16095\n",
      "Data columns (total 32 columns):\n",
      " #   Column                    Non-Null Count  Dtype  \n",
      "---  ------                    --------------  -----  \n",
      " 0   id                        16096 non-null  object \n",
      " 1   activity_new              6551 non-null   object \n",
      " 2   campaign_disc_ele         0 non-null      float64\n",
      " 3   channel_sales             11878 non-null  object \n",
      " 4   cons_12m                  16096 non-null  int64  \n",
      " 5   cons_gas_12m              16096 non-null  int64  \n",
      " 6   cons_last_month           16096 non-null  int64  \n",
      " 7   date_activ                16096 non-null  object \n",
      " 8   date_end                  16094 non-null  object \n",
      " 9   date_first_activ          3508 non-null   object \n",
      " 10  date_modif_prod           15939 non-null  object \n",
      " 11  date_renewal              16056 non-null  object \n",
      " 12  forecast_base_bill_ele    3508 non-null   float64\n",
      " 13  forecast_base_bill_year   3508 non-null   float64\n",
      " 14  forecast_bill_12m         3508 non-null   float64\n",
      " 15  forecast_cons             3508 non-null   float64\n",
      " 16  forecast_cons_12m         16096 non-null  float64\n",
      " 17  forecast_cons_year        16096 non-null  int64  \n",
      " 18  forecast_discount_energy  15970 non-null  float64\n",
      " 19  forecast_meter_rent_12m   16096 non-null  float64\n",
      " 20  forecast_price_energy_p1  15970 non-null  float64\n",
      " 21  forecast_price_energy_p2  15970 non-null  float64\n",
      " 22  forecast_price_pow_p1     15970 non-null  float64\n",
      " 23  has_gas                   16096 non-null  object \n",
      " 24  imp_cons                  16096 non-null  float64\n",
      " 25  margin_gross_pow_ele      16083 non-null  float64\n",
      " 26  margin_net_pow_ele        16083 non-null  float64\n",
      " 27  nb_prod_act               16096 non-null  int64  \n",
      " 28  net_margin                16081 non-null  float64\n",
      " 29  num_years_antig           16096 non-null  int64  \n",
      " 30  origin_up                 16009 non-null  object \n",
      " 31  pow_max                   16093 non-null  float64\n",
      "dtypes: float64(16), int64(6), object(10)\n",
      "memory usage: 3.9+ MB\n"
     ]
    }
   ],
   "source": [
    "data.info()"
   ]
  },
  {
   "cell_type": "code",
   "execution_count": 8,
   "metadata": {},
   "outputs": [
    {
     "data": {
      "text/html": [
       "<div>\n",
       "<style scoped>\n",
       "    .dataframe tbody tr th:only-of-type {\n",
       "        vertical-align: middle;\n",
       "    }\n",
       "\n",
       "    .dataframe tbody tr th {\n",
       "        vertical-align: top;\n",
       "    }\n",
       "\n",
       "    .dataframe thead th {\n",
       "        text-align: right;\n",
       "    }\n",
       "</style>\n",
       "<table border=\"1\" class=\"dataframe\">\n",
       "  <thead>\n",
       "    <tr style=\"text-align: right;\">\n",
       "      <th></th>\n",
       "      <th>campaign_disc_ele</th>\n",
       "      <th>cons_12m</th>\n",
       "      <th>cons_gas_12m</th>\n",
       "      <th>cons_last_month</th>\n",
       "      <th>forecast_base_bill_ele</th>\n",
       "      <th>forecast_base_bill_year</th>\n",
       "      <th>forecast_bill_12m</th>\n",
       "      <th>forecast_cons</th>\n",
       "      <th>forecast_cons_12m</th>\n",
       "      <th>forecast_cons_year</th>\n",
       "      <th>...</th>\n",
       "      <th>forecast_price_energy_p1</th>\n",
       "      <th>forecast_price_energy_p2</th>\n",
       "      <th>forecast_price_pow_p1</th>\n",
       "      <th>imp_cons</th>\n",
       "      <th>margin_gross_pow_ele</th>\n",
       "      <th>margin_net_pow_ele</th>\n",
       "      <th>nb_prod_act</th>\n",
       "      <th>net_margin</th>\n",
       "      <th>num_years_antig</th>\n",
       "      <th>pow_max</th>\n",
       "    </tr>\n",
       "  </thead>\n",
       "  <tbody>\n",
       "    <tr>\n",
       "      <th>count</th>\n",
       "      <td>0.0</td>\n",
       "      <td>1.609600e+04</td>\n",
       "      <td>1.609600e+04</td>\n",
       "      <td>1.609600e+04</td>\n",
       "      <td>3508.000000</td>\n",
       "      <td>3508.000000</td>\n",
       "      <td>3508.000000</td>\n",
       "      <td>3508.000000</td>\n",
       "      <td>16096.000000</td>\n",
       "      <td>16096.000000</td>\n",
       "      <td>...</td>\n",
       "      <td>15970.000000</td>\n",
       "      <td>15970.000000</td>\n",
       "      <td>15970.000000</td>\n",
       "      <td>16096.000000</td>\n",
       "      <td>16083.000000</td>\n",
       "      <td>16083.000000</td>\n",
       "      <td>16096.000000</td>\n",
       "      <td>16081.000000</td>\n",
       "      <td>16096.000000</td>\n",
       "      <td>16093.000000</td>\n",
       "    </tr>\n",
       "    <tr>\n",
       "      <th>mean</th>\n",
       "      <td>NaN</td>\n",
       "      <td>1.948044e+05</td>\n",
       "      <td>3.191164e+04</td>\n",
       "      <td>1.946154e+04</td>\n",
       "      <td>335.843857</td>\n",
       "      <td>335.843857</td>\n",
       "      <td>3837.441866</td>\n",
       "      <td>206.845165</td>\n",
       "      <td>2370.555949</td>\n",
       "      <td>1907.347229</td>\n",
       "      <td>...</td>\n",
       "      <td>0.135901</td>\n",
       "      <td>0.052951</td>\n",
       "      <td>43.533496</td>\n",
       "      <td>196.123447</td>\n",
       "      <td>22.462276</td>\n",
       "      <td>21.460318</td>\n",
       "      <td>1.347788</td>\n",
       "      <td>217.987028</td>\n",
       "      <td>5.030629</td>\n",
       "      <td>20.604131</td>\n",
       "    </tr>\n",
       "    <tr>\n",
       "      <th>std</th>\n",
       "      <td>NaN</td>\n",
       "      <td>6.795151e+05</td>\n",
       "      <td>1.775885e+05</td>\n",
       "      <td>8.235676e+04</td>\n",
       "      <td>649.406000</td>\n",
       "      <td>649.406000</td>\n",
       "      <td>5425.744327</td>\n",
       "      <td>455.634288</td>\n",
       "      <td>4035.085664</td>\n",
       "      <td>5257.364759</td>\n",
       "      <td>...</td>\n",
       "      <td>0.026252</td>\n",
       "      <td>0.048617</td>\n",
       "      <td>5.212252</td>\n",
       "      <td>494.366979</td>\n",
       "      <td>23.700883</td>\n",
       "      <td>27.917349</td>\n",
       "      <td>1.459808</td>\n",
       "      <td>366.742030</td>\n",
       "      <td>1.676101</td>\n",
       "      <td>21.772421</td>\n",
       "    </tr>\n",
       "    <tr>\n",
       "      <th>min</th>\n",
       "      <td>NaN</td>\n",
       "      <td>-1.252760e+05</td>\n",
       "      <td>-3.037000e+03</td>\n",
       "      <td>-9.138600e+04</td>\n",
       "      <td>-364.940000</td>\n",
       "      <td>-364.940000</td>\n",
       "      <td>-2503.480000</td>\n",
       "      <td>0.000000</td>\n",
       "      <td>-16689.260000</td>\n",
       "      <td>-85627.000000</td>\n",
       "      <td>...</td>\n",
       "      <td>0.000000</td>\n",
       "      <td>0.000000</td>\n",
       "      <td>-0.122184</td>\n",
       "      <td>-9038.210000</td>\n",
       "      <td>-525.540000</td>\n",
       "      <td>-615.660000</td>\n",
       "      <td>1.000000</td>\n",
       "      <td>-4148.990000</td>\n",
       "      <td>1.000000</td>\n",
       "      <td>1.000000</td>\n",
       "    </tr>\n",
       "    <tr>\n",
       "      <th>25%</th>\n",
       "      <td>NaN</td>\n",
       "      <td>5.906250e+03</td>\n",
       "      <td>0.000000e+00</td>\n",
       "      <td>0.000000e+00</td>\n",
       "      <td>0.000000</td>\n",
       "      <td>0.000000</td>\n",
       "      <td>1158.175000</td>\n",
       "      <td>0.000000</td>\n",
       "      <td>513.230000</td>\n",
       "      <td>0.000000</td>\n",
       "      <td>...</td>\n",
       "      <td>0.115237</td>\n",
       "      <td>0.000000</td>\n",
       "      <td>40.606701</td>\n",
       "      <td>0.000000</td>\n",
       "      <td>11.960000</td>\n",
       "      <td>11.950000</td>\n",
       "      <td>1.000000</td>\n",
       "      <td>51.970000</td>\n",
       "      <td>4.000000</td>\n",
       "      <td>12.500000</td>\n",
       "    </tr>\n",
       "    <tr>\n",
       "      <th>50%</th>\n",
       "      <td>NaN</td>\n",
       "      <td>1.533250e+04</td>\n",
       "      <td>0.000000e+00</td>\n",
       "      <td>9.010000e+02</td>\n",
       "      <td>162.955000</td>\n",
       "      <td>162.955000</td>\n",
       "      <td>2187.230000</td>\n",
       "      <td>42.215000</td>\n",
       "      <td>1179.160000</td>\n",
       "      <td>378.000000</td>\n",
       "      <td>...</td>\n",
       "      <td>0.142881</td>\n",
       "      <td>0.086163</td>\n",
       "      <td>44.311378</td>\n",
       "      <td>44.465000</td>\n",
       "      <td>21.090000</td>\n",
       "      <td>20.970000</td>\n",
       "      <td>1.000000</td>\n",
       "      <td>119.680000</td>\n",
       "      <td>5.000000</td>\n",
       "      <td>13.856000</td>\n",
       "    </tr>\n",
       "    <tr>\n",
       "      <th>75%</th>\n",
       "      <td>NaN</td>\n",
       "      <td>5.022150e+04</td>\n",
       "      <td>0.000000e+00</td>\n",
       "      <td>4.127000e+03</td>\n",
       "      <td>396.185000</td>\n",
       "      <td>396.185000</td>\n",
       "      <td>4246.555000</td>\n",
       "      <td>228.117500</td>\n",
       "      <td>2692.077500</td>\n",
       "      <td>1994.250000</td>\n",
       "      <td>...</td>\n",
       "      <td>0.146348</td>\n",
       "      <td>0.098837</td>\n",
       "      <td>44.311378</td>\n",
       "      <td>218.090000</td>\n",
       "      <td>29.640000</td>\n",
       "      <td>29.640000</td>\n",
       "      <td>1.000000</td>\n",
       "      <td>275.810000</td>\n",
       "      <td>6.000000</td>\n",
       "      <td>19.800000</td>\n",
       "    </tr>\n",
       "    <tr>\n",
       "      <th>max</th>\n",
       "      <td>NaN</td>\n",
       "      <td>1.609711e+07</td>\n",
       "      <td>4.188440e+06</td>\n",
       "      <td>4.538720e+06</td>\n",
       "      <td>12566.080000</td>\n",
       "      <td>12566.080000</td>\n",
       "      <td>81122.630000</td>\n",
       "      <td>9682.890000</td>\n",
       "      <td>103801.930000</td>\n",
       "      <td>175375.000000</td>\n",
       "      <td>...</td>\n",
       "      <td>0.273963</td>\n",
       "      <td>0.195975</td>\n",
       "      <td>59.444710</td>\n",
       "      <td>15042.790000</td>\n",
       "      <td>374.640000</td>\n",
       "      <td>374.640000</td>\n",
       "      <td>32.000000</td>\n",
       "      <td>24570.650000</td>\n",
       "      <td>16.000000</td>\n",
       "      <td>500.000000</td>\n",
       "    </tr>\n",
       "  </tbody>\n",
       "</table>\n",
       "<p>8 rows × 22 columns</p>\n",
       "</div>"
      ],
      "text/plain": [
       "       campaign_disc_ele      cons_12m  cons_gas_12m  cons_last_month  \\\n",
       "count                0.0  1.609600e+04  1.609600e+04     1.609600e+04   \n",
       "mean                 NaN  1.948044e+05  3.191164e+04     1.946154e+04   \n",
       "std                  NaN  6.795151e+05  1.775885e+05     8.235676e+04   \n",
       "min                  NaN -1.252760e+05 -3.037000e+03    -9.138600e+04   \n",
       "25%                  NaN  5.906250e+03  0.000000e+00     0.000000e+00   \n",
       "50%                  NaN  1.533250e+04  0.000000e+00     9.010000e+02   \n",
       "75%                  NaN  5.022150e+04  0.000000e+00     4.127000e+03   \n",
       "max                  NaN  1.609711e+07  4.188440e+06     4.538720e+06   \n",
       "\n",
       "       forecast_base_bill_ele  forecast_base_bill_year  forecast_bill_12m  \\\n",
       "count             3508.000000              3508.000000        3508.000000   \n",
       "mean               335.843857               335.843857        3837.441866   \n",
       "std                649.406000               649.406000        5425.744327   \n",
       "min               -364.940000              -364.940000       -2503.480000   \n",
       "25%                  0.000000                 0.000000        1158.175000   \n",
       "50%                162.955000               162.955000        2187.230000   \n",
       "75%                396.185000               396.185000        4246.555000   \n",
       "max              12566.080000             12566.080000       81122.630000   \n",
       "\n",
       "       forecast_cons  forecast_cons_12m  forecast_cons_year  ...  \\\n",
       "count    3508.000000       16096.000000        16096.000000  ...   \n",
       "mean      206.845165        2370.555949         1907.347229  ...   \n",
       "std       455.634288        4035.085664         5257.364759  ...   \n",
       "min         0.000000      -16689.260000       -85627.000000  ...   \n",
       "25%         0.000000         513.230000            0.000000  ...   \n",
       "50%        42.215000        1179.160000          378.000000  ...   \n",
       "75%       228.117500        2692.077500         1994.250000  ...   \n",
       "max      9682.890000      103801.930000       175375.000000  ...   \n",
       "\n",
       "       forecast_price_energy_p1  forecast_price_energy_p2  \\\n",
       "count              15970.000000              15970.000000   \n",
       "mean                   0.135901                  0.052951   \n",
       "std                    0.026252                  0.048617   \n",
       "min                    0.000000                  0.000000   \n",
       "25%                    0.115237                  0.000000   \n",
       "50%                    0.142881                  0.086163   \n",
       "75%                    0.146348                  0.098837   \n",
       "max                    0.273963                  0.195975   \n",
       "\n",
       "       forecast_price_pow_p1      imp_cons  margin_gross_pow_ele  \\\n",
       "count           15970.000000  16096.000000          16083.000000   \n",
       "mean               43.533496    196.123447             22.462276   \n",
       "std                 5.212252    494.366979             23.700883   \n",
       "min                -0.122184  -9038.210000           -525.540000   \n",
       "25%                40.606701      0.000000             11.960000   \n",
       "50%                44.311378     44.465000             21.090000   \n",
       "75%                44.311378    218.090000             29.640000   \n",
       "max                59.444710  15042.790000            374.640000   \n",
       "\n",
       "       margin_net_pow_ele   nb_prod_act    net_margin  num_years_antig  \\\n",
       "count        16083.000000  16096.000000  16081.000000     16096.000000   \n",
       "mean            21.460318      1.347788    217.987028         5.030629   \n",
       "std             27.917349      1.459808    366.742030         1.676101   \n",
       "min           -615.660000      1.000000  -4148.990000         1.000000   \n",
       "25%             11.950000      1.000000     51.970000         4.000000   \n",
       "50%             20.970000      1.000000    119.680000         5.000000   \n",
       "75%             29.640000      1.000000    275.810000         6.000000   \n",
       "max            374.640000     32.000000  24570.650000        16.000000   \n",
       "\n",
       "            pow_max  \n",
       "count  16093.000000  \n",
       "mean      20.604131  \n",
       "std       21.772421  \n",
       "min        1.000000  \n",
       "25%       12.500000  \n",
       "50%       13.856000  \n",
       "75%       19.800000  \n",
       "max      500.000000  \n",
       "\n",
       "[8 rows x 22 columns]"
      ]
     },
     "execution_count": 8,
     "metadata": {},
     "output_type": "execute_result"
    }
   ],
   "source": [
    "data.describe()"
   ]
  },
  {
   "cell_type": "code",
   "execution_count": 9,
   "metadata": {},
   "outputs": [
    {
     "data": {
      "text/html": [
       "<div>\n",
       "<style scoped>\n",
       "    .dataframe tbody tr th:only-of-type {\n",
       "        vertical-align: middle;\n",
       "    }\n",
       "\n",
       "    .dataframe tbody tr th {\n",
       "        vertical-align: top;\n",
       "    }\n",
       "\n",
       "    .dataframe thead th {\n",
       "        text-align: right;\n",
       "    }\n",
       "</style>\n",
       "<table border=\"1\" class=\"dataframe\">\n",
       "  <thead>\n",
       "    <tr style=\"text-align: right;\">\n",
       "      <th></th>\n",
       "      <th>id</th>\n",
       "      <th>activity_new</th>\n",
       "      <th>campaign_disc_ele</th>\n",
       "      <th>channel_sales</th>\n",
       "      <th>cons_12m</th>\n",
       "      <th>cons_gas_12m</th>\n",
       "      <th>cons_last_month</th>\n",
       "      <th>date_activ</th>\n",
       "      <th>date_end</th>\n",
       "      <th>date_first_activ</th>\n",
       "      <th>...</th>\n",
       "      <th>forecast_price_pow_p1</th>\n",
       "      <th>has_gas</th>\n",
       "      <th>imp_cons</th>\n",
       "      <th>margin_gross_pow_ele</th>\n",
       "      <th>margin_net_pow_ele</th>\n",
       "      <th>nb_prod_act</th>\n",
       "      <th>net_margin</th>\n",
       "      <th>num_years_antig</th>\n",
       "      <th>origin_up</th>\n",
       "      <th>pow_max</th>\n",
       "    </tr>\n",
       "  </thead>\n",
       "  <tbody>\n",
       "    <tr>\n",
       "      <th>0</th>\n",
       "      <td>48ada52261e7cf58715202705a0451c9</td>\n",
       "      <td>esoiiifxdlbkcsluxmfuacbdckommixw</td>\n",
       "      <td>NaN</td>\n",
       "      <td>lmkebamcaaclubfxadlmueccxoimlema</td>\n",
       "      <td>309275</td>\n",
       "      <td>0</td>\n",
       "      <td>10025</td>\n",
       "      <td>07-11-12</td>\n",
       "      <td></td>\n",
       "      <td>NaN</td>\n",
       "      <td>...</td>\n",
       "      <td>58.995952</td>\n",
       "      <td>f</td>\n",
       "      <td>831.8</td>\n",
       "      <td>-41.76</td>\n",
       "      <td>-41.76</td>\n",
       "      <td>1</td>\n",
       "      <td>1732.36</td>\n",
       "      <td>3</td>\n",
       "      <td>ldkssxwpmemidmecebumciepifcamkci</td>\n",
       "      <td>180.000</td>\n",
       "    </tr>\n",
       "    <tr>\n",
       "      <th>1</th>\n",
       "      <td>24011ae4ebbe3035111d65fa7c15bc57</td>\n",
       "      <td>NaN</td>\n",
       "      <td>NaN</td>\n",
       "      <td>foosdfpfkusacimwkcsosbicdxkicaua</td>\n",
       "      <td>0</td>\n",
       "      <td>54946</td>\n",
       "      <td>0</td>\n",
       "      <td>15-06-13</td>\n",
       "      <td>15-06-16</td>\n",
       "      <td>NaN</td>\n",
       "      <td>...</td>\n",
       "      <td>40.606701</td>\n",
       "      <td>t</td>\n",
       "      <td>0.0</td>\n",
       "      <td>25.44</td>\n",
       "      <td>25.44</td>\n",
       "      <td>2</td>\n",
       "      <td>678.99</td>\n",
       "      <td>3</td>\n",
       "      <td>lxidpiddsbxsbosboudacockeimpuepw</td>\n",
       "      <td>43.648</td>\n",
       "    </tr>\n",
       "    <tr>\n",
       "      <th>2</th>\n",
       "      <td>d29c2c54acc38ff3c0614d0a653813dd</td>\n",
       "      <td>NaN</td>\n",
       "      <td>NaN</td>\n",
       "      <td>NaN</td>\n",
       "      <td>4660</td>\n",
       "      <td>0</td>\n",
       "      <td>0</td>\n",
       "      <td>21-08-09</td>\n",
       "      <td>30-08-16</td>\n",
       "      <td>NaN</td>\n",
       "      <td>...</td>\n",
       "      <td>44.311378</td>\n",
       "      <td>f</td>\n",
       "      <td>0.0</td>\n",
       "      <td>16.38</td>\n",
       "      <td>16.38</td>\n",
       "      <td>1</td>\n",
       "      <td>18.89</td>\n",
       "      <td>6</td>\n",
       "      <td>kamkkxfxxuwbdslkwifmmcsiusiuosws</td>\n",
       "      <td>13.800</td>\n",
       "    </tr>\n",
       "    <tr>\n",
       "      <th>3</th>\n",
       "      <td>764c75f661154dac3a6c254cd082ea7d</td>\n",
       "      <td>NaN</td>\n",
       "      <td>NaN</td>\n",
       "      <td>foosdfpfkusacimwkcsosbicdxkicaua</td>\n",
       "      <td>544</td>\n",
       "      <td>0</td>\n",
       "      <td>0</td>\n",
       "      <td>16-04-10</td>\n",
       "      <td>16-04-16</td>\n",
       "      <td>NaN</td>\n",
       "      <td>...</td>\n",
       "      <td>44.311378</td>\n",
       "      <td>f</td>\n",
       "      <td>0.0</td>\n",
       "      <td>28.60</td>\n",
       "      <td>28.60</td>\n",
       "      <td>1</td>\n",
       "      <td>6.60</td>\n",
       "      <td>6</td>\n",
       "      <td>kamkkxfxxuwbdslkwifmmcsiusiuosws</td>\n",
       "      <td>13.856</td>\n",
       "    </tr>\n",
       "    <tr>\n",
       "      <th>4</th>\n",
       "      <td>bba03439a292a1e166f80264c16191cb</td>\n",
       "      <td>NaN</td>\n",
       "      <td>NaN</td>\n",
       "      <td>lmkebamcaaclubfxadlmueccxoimlema</td>\n",
       "      <td>1584</td>\n",
       "      <td>0</td>\n",
       "      <td>0</td>\n",
       "      <td>30-03-10</td>\n",
       "      <td>30-03-16</td>\n",
       "      <td>NaN</td>\n",
       "      <td>...</td>\n",
       "      <td>44.311378</td>\n",
       "      <td>f</td>\n",
       "      <td>0.0</td>\n",
       "      <td>30.22</td>\n",
       "      <td>30.22</td>\n",
       "      <td>1</td>\n",
       "      <td>25.46</td>\n",
       "      <td>6</td>\n",
       "      <td>kamkkxfxxuwbdslkwifmmcsiusiuosws</td>\n",
       "      <td>13.200</td>\n",
       "    </tr>\n",
       "  </tbody>\n",
       "</table>\n",
       "<p>5 rows × 32 columns</p>\n",
       "</div>"
      ],
      "text/plain": [
       "                                 id                      activity_new  \\\n",
       "0  48ada52261e7cf58715202705a0451c9  esoiiifxdlbkcsluxmfuacbdckommixw   \n",
       "1  24011ae4ebbe3035111d65fa7c15bc57                               NaN   \n",
       "2  d29c2c54acc38ff3c0614d0a653813dd                               NaN   \n",
       "3  764c75f661154dac3a6c254cd082ea7d                               NaN   \n",
       "4  bba03439a292a1e166f80264c16191cb                               NaN   \n",
       "\n",
       "   campaign_disc_ele                     channel_sales  cons_12m  \\\n",
       "0                NaN  lmkebamcaaclubfxadlmueccxoimlema    309275   \n",
       "1                NaN  foosdfpfkusacimwkcsosbicdxkicaua         0   \n",
       "2                NaN                               NaN      4660   \n",
       "3                NaN  foosdfpfkusacimwkcsosbicdxkicaua       544   \n",
       "4                NaN  lmkebamcaaclubfxadlmueccxoimlema      1584   \n",
       "\n",
       "   cons_gas_12m  cons_last_month date_activ  date_end date_first_activ  ...  \\\n",
       "0             0            10025   07-11-12                        NaN  ...   \n",
       "1         54946                0   15-06-13  15-06-16              NaN  ...   \n",
       "2             0                0   21-08-09  30-08-16              NaN  ...   \n",
       "3             0                0   16-04-10  16-04-16              NaN  ...   \n",
       "4             0                0   30-03-10  30-03-16              NaN  ...   \n",
       "\n",
       "  forecast_price_pow_p1 has_gas  imp_cons  margin_gross_pow_ele  \\\n",
       "0             58.995952       f     831.8                -41.76   \n",
       "1             40.606701       t       0.0                 25.44   \n",
       "2             44.311378       f       0.0                 16.38   \n",
       "3             44.311378       f       0.0                 28.60   \n",
       "4             44.311378       f       0.0                 30.22   \n",
       "\n",
       "   margin_net_pow_ele  nb_prod_act  net_margin  num_years_antig  \\\n",
       "0              -41.76            1     1732.36                3   \n",
       "1               25.44            2      678.99                3   \n",
       "2               16.38            1       18.89                6   \n",
       "3               28.60            1        6.60                6   \n",
       "4               30.22            1       25.46                6   \n",
       "\n",
       "                          origin_up  pow_max  \n",
       "0  ldkssxwpmemidmecebumciepifcamkci  180.000  \n",
       "1  lxidpiddsbxsbosboudacockeimpuepw   43.648  \n",
       "2  kamkkxfxxuwbdslkwifmmcsiusiuosws   13.800  \n",
       "3  kamkkxfxxuwbdslkwifmmcsiusiuosws   13.856  \n",
       "4  kamkkxfxxuwbdslkwifmmcsiusiuosws   13.200  \n",
       "\n",
       "[5 rows x 32 columns]"
      ]
     },
     "execution_count": 9,
     "metadata": {},
     "output_type": "execute_result"
    }
   ],
   "source": [
    "data.head()"
   ]
  },
  {
   "cell_type": "code",
   "execution_count": 10,
   "metadata": {},
   "outputs": [
    {
     "data": {
      "text/plain": [
       "id                              0\n",
       "activity_new                 9545\n",
       "campaign_disc_ele           16096\n",
       "channel_sales                4218\n",
       "cons_12m                        0\n",
       "cons_gas_12m                    0\n",
       "cons_last_month                 0\n",
       "date_activ                      0\n",
       "date_end                        2\n",
       "date_first_activ            12588\n",
       "date_modif_prod               157\n",
       "date_renewal                   40\n",
       "forecast_base_bill_ele      12588\n",
       "forecast_base_bill_year     12588\n",
       "forecast_bill_12m           12588\n",
       "forecast_cons               12588\n",
       "forecast_cons_12m               0\n",
       "forecast_cons_year              0\n",
       "forecast_discount_energy      126\n",
       "forecast_meter_rent_12m         0\n",
       "forecast_price_energy_p1      126\n",
       "forecast_price_energy_p2      126\n",
       "forecast_price_pow_p1         126\n",
       "has_gas                         0\n",
       "imp_cons                        0\n",
       "margin_gross_pow_ele           13\n",
       "margin_net_pow_ele             13\n",
       "nb_prod_act                     0\n",
       "net_margin                     15\n",
       "num_years_antig                 0\n",
       "origin_up                      87\n",
       "pow_max                         3\n",
       "dtype: int64"
      ]
     },
     "execution_count": 10,
     "metadata": {},
     "output_type": "execute_result"
    }
   ],
   "source": [
    "data.isnull().sum()"
   ]
  },
  {
   "cell_type": "code",
   "execution_count": 11,
   "metadata": {},
   "outputs": [
    {
     "name": "stdout",
     "output_type": "stream",
     "text": [
      "id 16096\n",
      "activity_new 419\n",
      "campaign_disc_ele 0\n",
      "channel_sales 7\n",
      "cons_12m 12002\n",
      "cons_gas_12m 2290\n",
      "cons_last_month 5308\n",
      "date_activ 1961\n",
      "date_end 372\n",
      "date_first_activ 1133\n",
      "date_modif_prod 2307\n",
      "date_renewal 398\n",
      "forecast_base_bill_ele 2042\n",
      "forecast_base_bill_year 2042\n",
      "forecast_bill_12m 3429\n",
      "forecast_cons 1955\n",
      "forecast_cons_12m 15422\n",
      "forecast_cons_year 4895\n",
      "forecast_discount_energy 14\n",
      "forecast_meter_rent_12m 3938\n",
      "forecast_price_energy_p1 617\n",
      "forecast_price_energy_p2 412\n",
      "forecast_price_pow_p1 46\n",
      "has_gas 2\n",
      "imp_cons 8765\n",
      "margin_gross_pow_ele 2947\n",
      "margin_net_pow_ele 2974\n",
      "nb_prod_act 11\n",
      "net_margin 13189\n",
      "num_years_antig 15\n",
      "origin_up 5\n",
      "pow_max 867\n"
     ]
    }
   ],
   "source": [
    "for col in data.columns:\n",
    "    print(col, data[col].nunique())"
   ]
  },
  {
   "cell_type": "markdown",
   "metadata": {},
   "source": [
    "Identify columns for further use"
   ]
  },
  {
   "cell_type": "code",
   "execution_count": 12,
   "metadata": {},
   "outputs": [
    {
     "name": "stdout",
     "output_type": "stream",
     "text": [
      "Index(['id', 'activity_new', 'channel_sales', 'date_activ', 'date_end',\n",
      "       'date_first_activ', 'date_modif_prod', 'date_renewal', 'has_gas',\n",
      "       'origin_up'],\n",
      "      dtype='object')\n"
     ]
    }
   ],
   "source": [
    "index_object = data.select_dtypes(include='object').columns\n",
    "print(index_object)"
   ]
  },
  {
   "cell_type": "code",
   "execution_count": 13,
   "metadata": {},
   "outputs": [
    {
     "name": "stdout",
     "output_type": "stream",
     "text": [
      "id 16096\n",
      "16096\n",
      "activity_new 419\n",
      "6551\n",
      "channel_sales 7\n",
      "11878\n",
      "date_activ 1961\n",
      "16096\n",
      "date_end 372\n",
      "16094\n",
      "date_first_activ 1133\n",
      "3508\n",
      "date_modif_prod 2307\n",
      "15939\n",
      "date_renewal 398\n",
      "16056\n",
      "has_gas 2\n",
      "16096\n",
      "origin_up 5\n",
      "16009\n"
     ]
    }
   ],
   "source": [
    "def columns_distinct(data, index_object):\n",
    "  for col in index_object:\n",
    "    a = data[col][data[col]=='unknown'].count()\n",
    "    print(col, data[col].nunique())\n",
    "    print(data[col].notnull().sum())\n",
    "    #print('{:s} : {:.0%}'.format(col, a/45211))\n",
    "    #print(data[col].value_counts())\n",
    "    \n",
    "    #print(\" \")\n",
    "\n",
    "columns_distinct(data, index_object)\n"
   ]
  },
  {
   "cell_type": "code",
   "execution_count": 14,
   "metadata": {},
   "outputs": [
    {
     "name": "stdout",
     "output_type": "stream",
     "text": [
      "16096\n"
     ]
    }
   ],
   "source": [
    "print(data.shape[0])"
   ]
  },
  {
   "cell_type": "markdown",
   "metadata": {},
   "source": [
    "# Data Preprocessing"
   ]
  },
  {
   "cell_type": "markdown",
   "metadata": {},
   "source": [
    "#Remove columns that contains >50% missing data"
   ]
  },
  {
   "cell_type": "code",
   "execution_count": 15,
   "metadata": {},
   "outputs": [
    {
     "data": {
      "text/plain": [
       "(16096, 25)"
      ]
     },
     "execution_count": 15,
     "metadata": {},
     "output_type": "execute_result"
    }
   ],
   "source": [
    "column_nan = data.columns[data.isnull().any()]\n",
    "data_notnull = data\n",
    "for column in column_nan:\n",
    "    if data_notnull[column].isnull().sum()*100/data_notnull.shape[0] > 50:\n",
    "        data_notnull.drop(column,1,inplace=True)\n",
    "data_notnull.shape"
   ]
  },
  {
   "cell_type": "code",
   "execution_count": 16,
   "metadata": {},
   "outputs": [
    {
     "name": "stdout",
     "output_type": "stream",
     "text": [
      "<class 'pandas.core.frame.DataFrame'>\n",
      "RangeIndex: 16096 entries, 0 to 16095\n",
      "Data columns (total 25 columns):\n",
      " #   Column                    Non-Null Count  Dtype  \n",
      "---  ------                    --------------  -----  \n",
      " 0   id                        16096 non-null  object \n",
      " 1   channel_sales             11878 non-null  object \n",
      " 2   cons_12m                  16096 non-null  int64  \n",
      " 3   cons_gas_12m              16096 non-null  int64  \n",
      " 4   cons_last_month           16096 non-null  int64  \n",
      " 5   date_activ                16096 non-null  object \n",
      " 6   date_end                  16094 non-null  object \n",
      " 7   date_modif_prod           15939 non-null  object \n",
      " 8   date_renewal              16056 non-null  object \n",
      " 9   forecast_cons_12m         16096 non-null  float64\n",
      " 10  forecast_cons_year        16096 non-null  int64  \n",
      " 11  forecast_discount_energy  15970 non-null  float64\n",
      " 12  forecast_meter_rent_12m   16096 non-null  float64\n",
      " 13  forecast_price_energy_p1  15970 non-null  float64\n",
      " 14  forecast_price_energy_p2  15970 non-null  float64\n",
      " 15  forecast_price_pow_p1     15970 non-null  float64\n",
      " 16  has_gas                   16096 non-null  object \n",
      " 17  imp_cons                  16096 non-null  float64\n",
      " 18  margin_gross_pow_ele      16083 non-null  float64\n",
      " 19  margin_net_pow_ele        16083 non-null  float64\n",
      " 20  nb_prod_act               16096 non-null  int64  \n",
      " 21  net_margin                16081 non-null  float64\n",
      " 22  num_years_antig           16096 non-null  int64  \n",
      " 23  origin_up                 16009 non-null  object \n",
      " 24  pow_max                   16093 non-null  float64\n",
      "dtypes: float64(11), int64(6), object(8)\n",
      "memory usage: 3.1+ MB\n"
     ]
    }
   ],
   "source": [
    "data_notnull.info()"
   ]
  },
  {
   "cell_type": "code",
   "execution_count": 17,
   "metadata": {},
   "outputs": [
    {
     "data": {
      "text/html": [
       "<div>\n",
       "<style scoped>\n",
       "    .dataframe tbody tr th:only-of-type {\n",
       "        vertical-align: middle;\n",
       "    }\n",
       "\n",
       "    .dataframe tbody tr th {\n",
       "        vertical-align: top;\n",
       "    }\n",
       "\n",
       "    .dataframe thead th {\n",
       "        text-align: right;\n",
       "    }\n",
       "</style>\n",
       "<table border=\"1\" class=\"dataframe\">\n",
       "  <thead>\n",
       "    <tr style=\"text-align: right;\">\n",
       "      <th></th>\n",
       "      <th>id</th>\n",
       "      <th>channel_sales</th>\n",
       "      <th>cons_12m</th>\n",
       "      <th>cons_gas_12m</th>\n",
       "      <th>cons_last_month</th>\n",
       "      <th>date_activ</th>\n",
       "      <th>date_end</th>\n",
       "      <th>date_modif_prod</th>\n",
       "      <th>date_renewal</th>\n",
       "      <th>forecast_cons_12m</th>\n",
       "      <th>...</th>\n",
       "      <th>forecast_price_pow_p1</th>\n",
       "      <th>has_gas</th>\n",
       "      <th>imp_cons</th>\n",
       "      <th>margin_gross_pow_ele</th>\n",
       "      <th>margin_net_pow_ele</th>\n",
       "      <th>nb_prod_act</th>\n",
       "      <th>net_margin</th>\n",
       "      <th>num_years_antig</th>\n",
       "      <th>origin_up</th>\n",
       "      <th>pow_max</th>\n",
       "    </tr>\n",
       "  </thead>\n",
       "  <tbody>\n",
       "    <tr>\n",
       "      <th>0</th>\n",
       "      <td>48ada52261e7cf58715202705a0451c9</td>\n",
       "      <td>lmkebamcaaclubfxadlmueccxoimlema</td>\n",
       "      <td>309275</td>\n",
       "      <td>0</td>\n",
       "      <td>10025</td>\n",
       "      <td>07-11-12</td>\n",
       "      <td></td>\n",
       "      <td>07-11-12</td>\n",
       "      <td>09-11-15</td>\n",
       "      <td>26520.30</td>\n",
       "      <td>...</td>\n",
       "      <td>58.995952</td>\n",
       "      <td>f</td>\n",
       "      <td>831.80</td>\n",
       "      <td>-41.76</td>\n",
       "      <td>-41.76</td>\n",
       "      <td>1</td>\n",
       "      <td>1732.36</td>\n",
       "      <td>3</td>\n",
       "      <td>ldkssxwpmemidmecebumciepifcamkci</td>\n",
       "      <td>180.000</td>\n",
       "    </tr>\n",
       "    <tr>\n",
       "      <th>1</th>\n",
       "      <td>24011ae4ebbe3035111d65fa7c15bc57</td>\n",
       "      <td>foosdfpfkusacimwkcsosbicdxkicaua</td>\n",
       "      <td>0</td>\n",
       "      <td>54946</td>\n",
       "      <td>0</td>\n",
       "      <td>15-06-13</td>\n",
       "      <td>15-06-16</td>\n",
       "      <td>NaN</td>\n",
       "      <td>23-06-15</td>\n",
       "      <td>0.00</td>\n",
       "      <td>...</td>\n",
       "      <td>40.606701</td>\n",
       "      <td>t</td>\n",
       "      <td>0.00</td>\n",
       "      <td>25.44</td>\n",
       "      <td>25.44</td>\n",
       "      <td>2</td>\n",
       "      <td>678.99</td>\n",
       "      <td>3</td>\n",
       "      <td>lxidpiddsbxsbosboudacockeimpuepw</td>\n",
       "      <td>43.648</td>\n",
       "    </tr>\n",
       "    <tr>\n",
       "      <th>2</th>\n",
       "      <td>d29c2c54acc38ff3c0614d0a653813dd</td>\n",
       "      <td>NaN</td>\n",
       "      <td>4660</td>\n",
       "      <td>0</td>\n",
       "      <td>0</td>\n",
       "      <td>21-08-09</td>\n",
       "      <td>30-08-16</td>\n",
       "      <td>21-08-09</td>\n",
       "      <td>31-08-15</td>\n",
       "      <td>189.95</td>\n",
       "      <td>...</td>\n",
       "      <td>44.311378</td>\n",
       "      <td>f</td>\n",
       "      <td>0.00</td>\n",
       "      <td>16.38</td>\n",
       "      <td>16.38</td>\n",
       "      <td>1</td>\n",
       "      <td>18.89</td>\n",
       "      <td>6</td>\n",
       "      <td>kamkkxfxxuwbdslkwifmmcsiusiuosws</td>\n",
       "      <td>13.800</td>\n",
       "    </tr>\n",
       "    <tr>\n",
       "      <th>3</th>\n",
       "      <td>764c75f661154dac3a6c254cd082ea7d</td>\n",
       "      <td>foosdfpfkusacimwkcsosbicdxkicaua</td>\n",
       "      <td>544</td>\n",
       "      <td>0</td>\n",
       "      <td>0</td>\n",
       "      <td>16-04-10</td>\n",
       "      <td>16-04-16</td>\n",
       "      <td>16-04-10</td>\n",
       "      <td>17-04-15</td>\n",
       "      <td>47.96</td>\n",
       "      <td>...</td>\n",
       "      <td>44.311378</td>\n",
       "      <td>f</td>\n",
       "      <td>0.00</td>\n",
       "      <td>28.60</td>\n",
       "      <td>28.60</td>\n",
       "      <td>1</td>\n",
       "      <td>6.60</td>\n",
       "      <td>6</td>\n",
       "      <td>kamkkxfxxuwbdslkwifmmcsiusiuosws</td>\n",
       "      <td>13.856</td>\n",
       "    </tr>\n",
       "    <tr>\n",
       "      <th>4</th>\n",
       "      <td>bba03439a292a1e166f80264c16191cb</td>\n",
       "      <td>lmkebamcaaclubfxadlmueccxoimlema</td>\n",
       "      <td>1584</td>\n",
       "      <td>0</td>\n",
       "      <td>0</td>\n",
       "      <td>30-03-10</td>\n",
       "      <td>30-03-16</td>\n",
       "      <td>30-03-10</td>\n",
       "      <td>31-03-15</td>\n",
       "      <td>240.04</td>\n",
       "      <td>...</td>\n",
       "      <td>44.311378</td>\n",
       "      <td>f</td>\n",
       "      <td>0.00</td>\n",
       "      <td>30.22</td>\n",
       "      <td>30.22</td>\n",
       "      <td>1</td>\n",
       "      <td>25.46</td>\n",
       "      <td>6</td>\n",
       "      <td>kamkkxfxxuwbdslkwifmmcsiusiuosws</td>\n",
       "      <td>13.200</td>\n",
       "    </tr>\n",
       "    <tr>\n",
       "      <th>...</th>\n",
       "      <td>...</td>\n",
       "      <td>...</td>\n",
       "      <td>...</td>\n",
       "      <td>...</td>\n",
       "      <td>...</td>\n",
       "      <td>...</td>\n",
       "      <td>...</td>\n",
       "      <td>...</td>\n",
       "      <td>...</td>\n",
       "      <td>...</td>\n",
       "      <td>...</td>\n",
       "      <td>...</td>\n",
       "      <td>...</td>\n",
       "      <td>...</td>\n",
       "      <td>...</td>\n",
       "      <td>...</td>\n",
       "      <td>...</td>\n",
       "      <td>...</td>\n",
       "      <td>...</td>\n",
       "      <td>...</td>\n",
       "      <td>...</td>\n",
       "    </tr>\n",
       "    <tr>\n",
       "      <th>16091</th>\n",
       "      <td>18463073fb097fc0ac5d3e040f356987</td>\n",
       "      <td>foosdfpfkusacimwkcsosbicdxkicaua</td>\n",
       "      <td>32270</td>\n",
       "      <td>47940</td>\n",
       "      <td>0</td>\n",
       "      <td>24-05-12</td>\n",
       "      <td>08-05-16</td>\n",
       "      <td>08-05-15</td>\n",
       "      <td>26-05-14</td>\n",
       "      <td>4648.01</td>\n",
       "      <td>...</td>\n",
       "      <td>44.311378</td>\n",
       "      <td>t</td>\n",
       "      <td>0.00</td>\n",
       "      <td>27.88</td>\n",
       "      <td>27.88</td>\n",
       "      <td>2</td>\n",
       "      <td>381.77</td>\n",
       "      <td>4</td>\n",
       "      <td>lxidpiddsbxsbosboudacockeimpuepw</td>\n",
       "      <td>15.000</td>\n",
       "    </tr>\n",
       "    <tr>\n",
       "      <th>16092</th>\n",
       "      <td>d0a6f71671571ed83b2645d23af6de00</td>\n",
       "      <td>foosdfpfkusacimwkcsosbicdxkicaua</td>\n",
       "      <td>7223</td>\n",
       "      <td>0</td>\n",
       "      <td>181</td>\n",
       "      <td>27-08-12</td>\n",
       "      <td>27-08-16</td>\n",
       "      <td>27-08-12</td>\n",
       "      <td>28-08-15</td>\n",
       "      <td>631.69</td>\n",
       "      <td>...</td>\n",
       "      <td>58.995952</td>\n",
       "      <td>f</td>\n",
       "      <td>15.94</td>\n",
       "      <td>0.00</td>\n",
       "      <td>0.00</td>\n",
       "      <td>1</td>\n",
       "      <td>90.34</td>\n",
       "      <td>3</td>\n",
       "      <td>lxidpiddsbxsbosboudacockeimpuepw</td>\n",
       "      <td>6.000</td>\n",
       "    </tr>\n",
       "    <tr>\n",
       "      <th>16093</th>\n",
       "      <td>10e6828ddd62cbcf687cb74928c4c2d2</td>\n",
       "      <td>foosdfpfkusacimwkcsosbicdxkicaua</td>\n",
       "      <td>1844</td>\n",
       "      <td>0</td>\n",
       "      <td>179</td>\n",
       "      <td>08-02-12</td>\n",
       "      <td>07-02-16</td>\n",
       "      <td>08-02-12</td>\n",
       "      <td>09-02-15</td>\n",
       "      <td>190.39</td>\n",
       "      <td>...</td>\n",
       "      <td>40.606701</td>\n",
       "      <td>f</td>\n",
       "      <td>18.05</td>\n",
       "      <td>39.84</td>\n",
       "      <td>39.84</td>\n",
       "      <td>1</td>\n",
       "      <td>20.38</td>\n",
       "      <td>4</td>\n",
       "      <td>lxidpiddsbxsbosboudacockeimpuepw</td>\n",
       "      <td>15.935</td>\n",
       "    </tr>\n",
       "    <tr>\n",
       "      <th>16094</th>\n",
       "      <td>1cf20fd6206d7678d5bcafd28c53b4db</td>\n",
       "      <td>foosdfpfkusacimwkcsosbicdxkicaua</td>\n",
       "      <td>131</td>\n",
       "      <td>0</td>\n",
       "      <td>0</td>\n",
       "      <td>30-08-12</td>\n",
       "      <td>30-08-16</td>\n",
       "      <td>30-08-12</td>\n",
       "      <td>31-08-15</td>\n",
       "      <td>19.34</td>\n",
       "      <td>...</td>\n",
       "      <td>44.311378</td>\n",
       "      <td>f</td>\n",
       "      <td>0.00</td>\n",
       "      <td>13.08</td>\n",
       "      <td>13.08</td>\n",
       "      <td>1</td>\n",
       "      <td>0.96</td>\n",
       "      <td>3</td>\n",
       "      <td>lxidpiddsbxsbosboudacockeimpuepw</td>\n",
       "      <td>11.000</td>\n",
       "    </tr>\n",
       "    <tr>\n",
       "      <th>16095</th>\n",
       "      <td>563dde550fd624d7352f3de77c0cdfcd</td>\n",
       "      <td>NaN</td>\n",
       "      <td>8730</td>\n",
       "      <td>0</td>\n",
       "      <td>0</td>\n",
       "      <td>18-12-09</td>\n",
       "      <td>17-12-16</td>\n",
       "      <td>18-12-09</td>\n",
       "      <td>21-12-15</td>\n",
       "      <td>762.41</td>\n",
       "      <td>...</td>\n",
       "      <td>45.311378</td>\n",
       "      <td>f</td>\n",
       "      <td>0.00</td>\n",
       "      <td>11.84</td>\n",
       "      <td>11.84</td>\n",
       "      <td>1</td>\n",
       "      <td>96.34</td>\n",
       "      <td>6</td>\n",
       "      <td>ldkssxwpmemidmecebumciepifcamkci</td>\n",
       "      <td>10.392</td>\n",
       "    </tr>\n",
       "  </tbody>\n",
       "</table>\n",
       "<p>16096 rows × 25 columns</p>\n",
       "</div>"
      ],
      "text/plain": [
       "                                     id                     channel_sales  \\\n",
       "0      48ada52261e7cf58715202705a0451c9  lmkebamcaaclubfxadlmueccxoimlema   \n",
       "1      24011ae4ebbe3035111d65fa7c15bc57  foosdfpfkusacimwkcsosbicdxkicaua   \n",
       "2      d29c2c54acc38ff3c0614d0a653813dd                               NaN   \n",
       "3      764c75f661154dac3a6c254cd082ea7d  foosdfpfkusacimwkcsosbicdxkicaua   \n",
       "4      bba03439a292a1e166f80264c16191cb  lmkebamcaaclubfxadlmueccxoimlema   \n",
       "...                                 ...                               ...   \n",
       "16091  18463073fb097fc0ac5d3e040f356987  foosdfpfkusacimwkcsosbicdxkicaua   \n",
       "16092  d0a6f71671571ed83b2645d23af6de00  foosdfpfkusacimwkcsosbicdxkicaua   \n",
       "16093  10e6828ddd62cbcf687cb74928c4c2d2  foosdfpfkusacimwkcsosbicdxkicaua   \n",
       "16094  1cf20fd6206d7678d5bcafd28c53b4db  foosdfpfkusacimwkcsosbicdxkicaua   \n",
       "16095  563dde550fd624d7352f3de77c0cdfcd                               NaN   \n",
       "\n",
       "       cons_12m  cons_gas_12m  cons_last_month date_activ  date_end  \\\n",
       "0        309275             0            10025   07-11-12             \n",
       "1             0         54946                0   15-06-13  15-06-16   \n",
       "2          4660             0                0   21-08-09  30-08-16   \n",
       "3           544             0                0   16-04-10  16-04-16   \n",
       "4          1584             0                0   30-03-10  30-03-16   \n",
       "...         ...           ...              ...        ...       ...   \n",
       "16091     32270         47940                0   24-05-12  08-05-16   \n",
       "16092      7223             0              181   27-08-12  27-08-16   \n",
       "16093      1844             0              179   08-02-12  07-02-16   \n",
       "16094       131             0                0   30-08-12  30-08-16   \n",
       "16095      8730             0                0   18-12-09  17-12-16   \n",
       "\n",
       "      date_modif_prod date_renewal  forecast_cons_12m  ...  \\\n",
       "0            07-11-12     09-11-15           26520.30  ...   \n",
       "1                 NaN     23-06-15               0.00  ...   \n",
       "2            21-08-09     31-08-15             189.95  ...   \n",
       "3            16-04-10     17-04-15              47.96  ...   \n",
       "4            30-03-10     31-03-15             240.04  ...   \n",
       "...               ...          ...                ...  ...   \n",
       "16091        08-05-15     26-05-14            4648.01  ...   \n",
       "16092        27-08-12     28-08-15             631.69  ...   \n",
       "16093        08-02-12     09-02-15             190.39  ...   \n",
       "16094        30-08-12     31-08-15              19.34  ...   \n",
       "16095        18-12-09     21-12-15             762.41  ...   \n",
       "\n",
       "       forecast_price_pow_p1  has_gas  imp_cons  margin_gross_pow_ele  \\\n",
       "0                  58.995952        f    831.80                -41.76   \n",
       "1                  40.606701        t      0.00                 25.44   \n",
       "2                  44.311378        f      0.00                 16.38   \n",
       "3                  44.311378        f      0.00                 28.60   \n",
       "4                  44.311378        f      0.00                 30.22   \n",
       "...                      ...      ...       ...                   ...   \n",
       "16091              44.311378        t      0.00                 27.88   \n",
       "16092              58.995952        f     15.94                  0.00   \n",
       "16093              40.606701        f     18.05                 39.84   \n",
       "16094              44.311378        f      0.00                 13.08   \n",
       "16095              45.311378        f      0.00                 11.84   \n",
       "\n",
       "       margin_net_pow_ele  nb_prod_act net_margin  num_years_antig  \\\n",
       "0                  -41.76            1    1732.36                3   \n",
       "1                   25.44            2     678.99                3   \n",
       "2                   16.38            1      18.89                6   \n",
       "3                   28.60            1       6.60                6   \n",
       "4                   30.22            1      25.46                6   \n",
       "...                   ...          ...        ...              ...   \n",
       "16091               27.88            2     381.77                4   \n",
       "16092                0.00            1      90.34                3   \n",
       "16093               39.84            1      20.38                4   \n",
       "16094               13.08            1       0.96                3   \n",
       "16095               11.84            1      96.34                6   \n",
       "\n",
       "                              origin_up  pow_max  \n",
       "0      ldkssxwpmemidmecebumciepifcamkci  180.000  \n",
       "1      lxidpiddsbxsbosboudacockeimpuepw   43.648  \n",
       "2      kamkkxfxxuwbdslkwifmmcsiusiuosws   13.800  \n",
       "3      kamkkxfxxuwbdslkwifmmcsiusiuosws   13.856  \n",
       "4      kamkkxfxxuwbdslkwifmmcsiusiuosws   13.200  \n",
       "...                                 ...      ...  \n",
       "16091  lxidpiddsbxsbosboudacockeimpuepw   15.000  \n",
       "16092  lxidpiddsbxsbosboudacockeimpuepw    6.000  \n",
       "16093  lxidpiddsbxsbosboudacockeimpuepw   15.935  \n",
       "16094  lxidpiddsbxsbosboudacockeimpuepw   11.000  \n",
       "16095  ldkssxwpmemidmecebumciepifcamkci   10.392  \n",
       "\n",
       "[16096 rows x 25 columns]"
      ]
     },
     "execution_count": 17,
     "metadata": {},
     "output_type": "execute_result"
    }
   ],
   "source": [
    "data_notnull"
   ]
  },
  {
   "cell_type": "markdown",
   "metadata": {},
   "source": [
    "Select object type of columns"
   ]
  },
  {
   "cell_type": "code",
   "execution_count": 18,
   "metadata": {},
   "outputs": [
    {
     "name": "stdout",
     "output_type": "stream",
     "text": [
      "id 16096\n",
      "16096\n",
      "channel_sales 7\n",
      "11878\n",
      "date_activ 1961\n",
      "16096\n",
      "date_end 372\n",
      "16094\n",
      "date_modif_prod 2307\n",
      "15939\n",
      "date_renewal 398\n",
      "16056\n",
      "has_gas 2\n",
      "16096\n",
      "origin_up 5\n",
      "16009\n"
     ]
    }
   ],
   "source": [
    "index_object = data_notnull.select_dtypes(include='object').columns\n",
    "columns_distinct(data_notnull, index_object)"
   ]
  },
  {
   "cell_type": "markdown",
   "metadata": {},
   "source": [
    "Checkup remaining columns with missing data"
   ]
  },
  {
   "cell_type": "code",
   "execution_count": 19,
   "metadata": {},
   "outputs": [
    {
     "data": {
      "text/plain": [
       "id                             0\n",
       "channel_sales               4218\n",
       "cons_12m                       0\n",
       "cons_gas_12m                   0\n",
       "cons_last_month                0\n",
       "date_activ                     0\n",
       "date_end                       2\n",
       "date_modif_prod              157\n",
       "date_renewal                  40\n",
       "forecast_cons_12m              0\n",
       "forecast_cons_year             0\n",
       "forecast_discount_energy     126\n",
       "forecast_meter_rent_12m        0\n",
       "forecast_price_energy_p1     126\n",
       "forecast_price_energy_p2     126\n",
       "forecast_price_pow_p1        126\n",
       "has_gas                        0\n",
       "imp_cons                       0\n",
       "margin_gross_pow_ele          13\n",
       "margin_net_pow_ele            13\n",
       "nb_prod_act                    0\n",
       "net_margin                    15\n",
       "num_years_antig                0\n",
       "origin_up                     87\n",
       "pow_max                        3\n",
       "dtype: int64"
      ]
     },
     "execution_count": 19,
     "metadata": {},
     "output_type": "execute_result"
    }
   ],
   "source": [
    "data_notnull.isnull().sum()"
   ]
  },
  {
   "cell_type": "markdown",
   "metadata": {},
   "source": [
    "Convert into Datetime"
   ]
  },
  {
   "cell_type": "code",
   "execution_count": 20,
   "metadata": {},
   "outputs": [],
   "source": [
    "#new_data = data_notnull.dropna(axis = 0, subset = ['date_activ', 'date_end', 'date_modif_prod', 'date_renewal'])"
   ]
  },
  {
   "cell_type": "markdown",
   "metadata": {},
   "source": [
    "Drop channel as it has numerous data so it will become computationally expensive"
   ]
  },
  {
   "cell_type": "code",
   "execution_count": 21,
   "metadata": {},
   "outputs": [],
   "source": [
    "new_data = data_notnull"
   ]
  },
  {
   "cell_type": "code",
   "execution_count": 22,
   "metadata": {},
   "outputs": [],
   "source": [
    "new_data = new_data.drop(columns = ['channel_sales'], axis = 0)"
   ]
  },
  {
   "cell_type": "code",
   "execution_count": 23,
   "metadata": {},
   "outputs": [
    {
     "data": {
      "text/plain": [
       "(16096, 24)"
      ]
     },
     "execution_count": 23,
     "metadata": {},
     "output_type": "execute_result"
    }
   ],
   "source": [
    "new_data.shape"
   ]
  },
  {
   "cell_type": "code",
   "execution_count": 24,
   "metadata": {},
   "outputs": [],
   "source": [
    "#test_data_1[['date_activ', 'date_end', 'date_modif_prod', 'date_renewal']] = test_data_1[['date_activ', 'date_end', 'date_modif_prod', 'date_renewal']].apply(pd.to_datetime)"
   ]
  },
  {
   "cell_type": "markdown",
   "metadata": {},
   "source": [
    "Impute the data"
   ]
  },
  {
   "cell_type": "markdown",
   "metadata": {},
   "source": [
    "- Impute float with 'mean method'\n",
    "- Impute string with 'most frequent' method"
   ]
  },
  {
   "cell_type": "code",
   "execution_count": 25,
   "metadata": {},
   "outputs": [],
   "source": [
    "new_column_with_nan = new_data.columns[new_data.isnull().any()]\n",
    "new_column_with_nan\n",
    "\n",
    "from sklearn.impute import SimpleImputer\n",
    "from pandas.api.types import is_float_dtype\n",
    "\n",
    "def impute_func(data, column):\n",
    "    for col in column:\n",
    "        if is_float_dtype(data[col]) == True:\n",
    "            mean_imputer = SimpleImputer(missing_values=np.nan, strategy='mean')\n",
    "            mean_imputer = mean_imputer.fit(data[[col]])\n",
    "            data[col] = mean_imputer.transform(data[[col]]).ravel()\n",
    "        else:\n",
    "            mode_imputer = SimpleImputer(missing_values=np.NaN, strategy='most_frequent')\n",
    "            mode_imputer = mode_imputer.fit(data[[col]])\n",
    "            data[col] = mode_imputer.transform(data[[col]]).ravel()\n",
    "            "
   ]
  },
  {
   "cell_type": "code",
   "execution_count": 26,
   "metadata": {},
   "outputs": [
    {
     "data": {
      "text/plain": [
       "Index(['date_end', 'date_modif_prod', 'date_renewal',\n",
       "       'forecast_discount_energy', 'forecast_price_energy_p1',\n",
       "       'forecast_price_energy_p2', 'forecast_price_pow_p1',\n",
       "       'margin_gross_pow_ele', 'margin_net_pow_ele', 'net_margin', 'origin_up',\n",
       "       'pow_max'],\n",
       "      dtype='object')"
      ]
     },
     "execution_count": 26,
     "metadata": {},
     "output_type": "execute_result"
    }
   ],
   "source": [
    "new_column_with_nan"
   ]
  },
  {
   "cell_type": "code",
   "execution_count": 27,
   "metadata": {},
   "outputs": [],
   "source": [
    "impute_func(new_data, new_column_with_nan)"
   ]
  },
  {
   "cell_type": "markdown",
   "metadata": {},
   "source": [
    "Since the date_end column has a missing value, set is as max"
   ]
  },
  {
   "cell_type": "code",
   "execution_count": 28,
   "metadata": {},
   "outputs": [],
   "source": [
    "new_data['date_end']=new_data['date_end'].replace([' '], [new_data['date_end'].max()])"
   ]
  },
  {
   "cell_type": "markdown",
   "metadata": {},
   "source": [
    "Create a new variable"
   ]
  },
  {
   "cell_type": "code",
   "execution_count": 29,
   "metadata": {},
   "outputs": [],
   "source": [
    "test_data_1 = new_data"
   ]
  },
  {
   "cell_type": "code",
   "execution_count": 30,
   "metadata": {},
   "outputs": [
    {
     "data": {
      "text/plain": [
       "id                          0\n",
       "cons_12m                    0\n",
       "cons_gas_12m                0\n",
       "cons_last_month             0\n",
       "date_activ                  0\n",
       "date_end                    0\n",
       "date_modif_prod             0\n",
       "date_renewal                0\n",
       "forecast_cons_12m           0\n",
       "forecast_cons_year          0\n",
       "forecast_discount_energy    0\n",
       "forecast_meter_rent_12m     0\n",
       "forecast_price_energy_p1    0\n",
       "forecast_price_energy_p2    0\n",
       "forecast_price_pow_p1       0\n",
       "has_gas                     0\n",
       "imp_cons                    0\n",
       "margin_gross_pow_ele        0\n",
       "margin_net_pow_ele          0\n",
       "nb_prod_act                 0\n",
       "net_margin                  0\n",
       "num_years_antig             0\n",
       "origin_up                   0\n",
       "pow_max                     0\n",
       "dtype: int64"
      ]
     },
     "execution_count": 30,
     "metadata": {},
     "output_type": "execute_result"
    }
   ],
   "source": [
    "test_data_1.isnull().sum()"
   ]
  },
  {
   "cell_type": "markdown",
   "metadata": {},
   "source": [
    "# EDA"
   ]
  },
  {
   "cell_type": "markdown",
   "metadata": {},
   "source": [
    "EDA"
   ]
  },
  {
   "cell_type": "code",
   "execution_count": 31,
   "metadata": {},
   "outputs": [],
   "source": [
    "test_data_1[['date_activ', 'date_end', 'date_modif_prod', 'date_renewal']] = test_data_1[['date_activ', 'date_end', 'date_modif_prod', 'date_renewal']].apply(pd.to_datetime)"
   ]
  },
  {
   "cell_type": "code",
   "execution_count": 32,
   "metadata": {},
   "outputs": [
    {
     "name": "stdout",
     "output_type": "stream",
     "text": [
      "<class 'pandas.core.frame.DataFrame'>\n",
      "RangeIndex: 16096 entries, 0 to 16095\n",
      "Data columns (total 24 columns):\n",
      " #   Column                    Non-Null Count  Dtype         \n",
      "---  ------                    --------------  -----         \n",
      " 0   id                        16096 non-null  object        \n",
      " 1   cons_12m                  16096 non-null  int64         \n",
      " 2   cons_gas_12m              16096 non-null  int64         \n",
      " 3   cons_last_month           16096 non-null  int64         \n",
      " 4   date_activ                16096 non-null  datetime64[ns]\n",
      " 5   date_end                  16096 non-null  datetime64[ns]\n",
      " 6   date_modif_prod           16096 non-null  datetime64[ns]\n",
      " 7   date_renewal              16096 non-null  datetime64[ns]\n",
      " 8   forecast_cons_12m         16096 non-null  float64       \n",
      " 9   forecast_cons_year        16096 non-null  int64         \n",
      " 10  forecast_discount_energy  16096 non-null  float64       \n",
      " 11  forecast_meter_rent_12m   16096 non-null  float64       \n",
      " 12  forecast_price_energy_p1  16096 non-null  float64       \n",
      " 13  forecast_price_energy_p2  16096 non-null  float64       \n",
      " 14  forecast_price_pow_p1     16096 non-null  float64       \n",
      " 15  has_gas                   16096 non-null  object        \n",
      " 16  imp_cons                  16096 non-null  float64       \n",
      " 17  margin_gross_pow_ele      16096 non-null  float64       \n",
      " 18  margin_net_pow_ele        16096 non-null  float64       \n",
      " 19  nb_prod_act               16096 non-null  int64         \n",
      " 20  net_margin                16096 non-null  float64       \n",
      " 21  num_years_antig           16096 non-null  int64         \n",
      " 22  origin_up                 16096 non-null  object        \n",
      " 23  pow_max                   16096 non-null  float64       \n",
      "dtypes: datetime64[ns](4), float64(11), int64(6), object(3)\n",
      "memory usage: 2.9+ MB\n"
     ]
    }
   ],
   "source": [
    "test_data_1.info()"
   ]
  },
  {
   "cell_type": "code",
   "execution_count": 33,
   "metadata": {},
   "outputs": [
    {
     "data": {
      "text/html": [
       "<div>\n",
       "<style scoped>\n",
       "    .dataframe tbody tr th:only-of-type {\n",
       "        vertical-align: middle;\n",
       "    }\n",
       "\n",
       "    .dataframe tbody tr th {\n",
       "        vertical-align: top;\n",
       "    }\n",
       "\n",
       "    .dataframe thead th {\n",
       "        text-align: right;\n",
       "    }\n",
       "</style>\n",
       "<table border=\"1\" class=\"dataframe\">\n",
       "  <thead>\n",
       "    <tr style=\"text-align: right;\">\n",
       "      <th></th>\n",
       "      <th>id</th>\n",
       "      <th>cons_12m</th>\n",
       "      <th>cons_gas_12m</th>\n",
       "      <th>cons_last_month</th>\n",
       "      <th>date_activ</th>\n",
       "      <th>date_end</th>\n",
       "      <th>date_modif_prod</th>\n",
       "      <th>date_renewal</th>\n",
       "      <th>forecast_cons_12m</th>\n",
       "      <th>forecast_cons_year</th>\n",
       "      <th>...</th>\n",
       "      <th>forecast_price_pow_p1</th>\n",
       "      <th>has_gas</th>\n",
       "      <th>imp_cons</th>\n",
       "      <th>margin_gross_pow_ele</th>\n",
       "      <th>margin_net_pow_ele</th>\n",
       "      <th>nb_prod_act</th>\n",
       "      <th>net_margin</th>\n",
       "      <th>num_years_antig</th>\n",
       "      <th>origin_up</th>\n",
       "      <th>pow_max</th>\n",
       "    </tr>\n",
       "  </thead>\n",
       "  <tbody>\n",
       "    <tr>\n",
       "      <th>0</th>\n",
       "      <td>48ada52261e7cf58715202705a0451c9</td>\n",
       "      <td>309275</td>\n",
       "      <td>0</td>\n",
       "      <td>10025</td>\n",
       "      <td>2012-07-11</td>\n",
       "      <td>2016-12-31</td>\n",
       "      <td>2012-07-11</td>\n",
       "      <td>2015-09-11</td>\n",
       "      <td>26520.30</td>\n",
       "      <td>10025</td>\n",
       "      <td>...</td>\n",
       "      <td>58.995952</td>\n",
       "      <td>f</td>\n",
       "      <td>831.8</td>\n",
       "      <td>-41.76</td>\n",
       "      <td>-41.76</td>\n",
       "      <td>1</td>\n",
       "      <td>1732.36</td>\n",
       "      <td>3</td>\n",
       "      <td>ldkssxwpmemidmecebumciepifcamkci</td>\n",
       "      <td>180.000</td>\n",
       "    </tr>\n",
       "    <tr>\n",
       "      <th>1</th>\n",
       "      <td>24011ae4ebbe3035111d65fa7c15bc57</td>\n",
       "      <td>0</td>\n",
       "      <td>54946</td>\n",
       "      <td>0</td>\n",
       "      <td>2013-06-15</td>\n",
       "      <td>2016-06-15</td>\n",
       "      <td>2015-01-11</td>\n",
       "      <td>2015-06-23</td>\n",
       "      <td>0.00</td>\n",
       "      <td>0</td>\n",
       "      <td>...</td>\n",
       "      <td>40.606701</td>\n",
       "      <td>t</td>\n",
       "      <td>0.0</td>\n",
       "      <td>25.44</td>\n",
       "      <td>25.44</td>\n",
       "      <td>2</td>\n",
       "      <td>678.99</td>\n",
       "      <td>3</td>\n",
       "      <td>lxidpiddsbxsbosboudacockeimpuepw</td>\n",
       "      <td>43.648</td>\n",
       "    </tr>\n",
       "    <tr>\n",
       "      <th>2</th>\n",
       "      <td>d29c2c54acc38ff3c0614d0a653813dd</td>\n",
       "      <td>4660</td>\n",
       "      <td>0</td>\n",
       "      <td>0</td>\n",
       "      <td>2009-08-21</td>\n",
       "      <td>2016-08-30</td>\n",
       "      <td>2009-08-21</td>\n",
       "      <td>2015-08-31</td>\n",
       "      <td>189.95</td>\n",
       "      <td>0</td>\n",
       "      <td>...</td>\n",
       "      <td>44.311378</td>\n",
       "      <td>f</td>\n",
       "      <td>0.0</td>\n",
       "      <td>16.38</td>\n",
       "      <td>16.38</td>\n",
       "      <td>1</td>\n",
       "      <td>18.89</td>\n",
       "      <td>6</td>\n",
       "      <td>kamkkxfxxuwbdslkwifmmcsiusiuosws</td>\n",
       "      <td>13.800</td>\n",
       "    </tr>\n",
       "    <tr>\n",
       "      <th>3</th>\n",
       "      <td>764c75f661154dac3a6c254cd082ea7d</td>\n",
       "      <td>544</td>\n",
       "      <td>0</td>\n",
       "      <td>0</td>\n",
       "      <td>2010-04-16</td>\n",
       "      <td>2016-04-16</td>\n",
       "      <td>2010-04-16</td>\n",
       "      <td>2015-04-17</td>\n",
       "      <td>47.96</td>\n",
       "      <td>0</td>\n",
       "      <td>...</td>\n",
       "      <td>44.311378</td>\n",
       "      <td>f</td>\n",
       "      <td>0.0</td>\n",
       "      <td>28.60</td>\n",
       "      <td>28.60</td>\n",
       "      <td>1</td>\n",
       "      <td>6.60</td>\n",
       "      <td>6</td>\n",
       "      <td>kamkkxfxxuwbdslkwifmmcsiusiuosws</td>\n",
       "      <td>13.856</td>\n",
       "    </tr>\n",
       "    <tr>\n",
       "      <th>4</th>\n",
       "      <td>bba03439a292a1e166f80264c16191cb</td>\n",
       "      <td>1584</td>\n",
       "      <td>0</td>\n",
       "      <td>0</td>\n",
       "      <td>2010-03-30</td>\n",
       "      <td>2016-03-30</td>\n",
       "      <td>2010-03-30</td>\n",
       "      <td>2015-03-31</td>\n",
       "      <td>240.04</td>\n",
       "      <td>0</td>\n",
       "      <td>...</td>\n",
       "      <td>44.311378</td>\n",
       "      <td>f</td>\n",
       "      <td>0.0</td>\n",
       "      <td>30.22</td>\n",
       "      <td>30.22</td>\n",
       "      <td>1</td>\n",
       "      <td>25.46</td>\n",
       "      <td>6</td>\n",
       "      <td>kamkkxfxxuwbdslkwifmmcsiusiuosws</td>\n",
       "      <td>13.200</td>\n",
       "    </tr>\n",
       "  </tbody>\n",
       "</table>\n",
       "<p>5 rows × 24 columns</p>\n",
       "</div>"
      ],
      "text/plain": [
       "                                 id  cons_12m  cons_gas_12m  cons_last_month  \\\n",
       "0  48ada52261e7cf58715202705a0451c9    309275             0            10025   \n",
       "1  24011ae4ebbe3035111d65fa7c15bc57         0         54946                0   \n",
       "2  d29c2c54acc38ff3c0614d0a653813dd      4660             0                0   \n",
       "3  764c75f661154dac3a6c254cd082ea7d       544             0                0   \n",
       "4  bba03439a292a1e166f80264c16191cb      1584             0                0   \n",
       "\n",
       "  date_activ   date_end date_modif_prod date_renewal  forecast_cons_12m  \\\n",
       "0 2012-07-11 2016-12-31      2012-07-11   2015-09-11           26520.30   \n",
       "1 2013-06-15 2016-06-15      2015-01-11   2015-06-23               0.00   \n",
       "2 2009-08-21 2016-08-30      2009-08-21   2015-08-31             189.95   \n",
       "3 2010-04-16 2016-04-16      2010-04-16   2015-04-17              47.96   \n",
       "4 2010-03-30 2016-03-30      2010-03-30   2015-03-31             240.04   \n",
       "\n",
       "   forecast_cons_year  ...  forecast_price_pow_p1  has_gas  imp_cons  \\\n",
       "0               10025  ...              58.995952        f     831.8   \n",
       "1                   0  ...              40.606701        t       0.0   \n",
       "2                   0  ...              44.311378        f       0.0   \n",
       "3                   0  ...              44.311378        f       0.0   \n",
       "4                   0  ...              44.311378        f       0.0   \n",
       "\n",
       "   margin_gross_pow_ele  margin_net_pow_ele nb_prod_act  net_margin  \\\n",
       "0                -41.76              -41.76           1     1732.36   \n",
       "1                 25.44               25.44           2      678.99   \n",
       "2                 16.38               16.38           1       18.89   \n",
       "3                 28.60               28.60           1        6.60   \n",
       "4                 30.22               30.22           1       25.46   \n",
       "\n",
       "   num_years_antig                         origin_up  pow_max  \n",
       "0                3  ldkssxwpmemidmecebumciepifcamkci  180.000  \n",
       "1                3  lxidpiddsbxsbosboudacockeimpuepw   43.648  \n",
       "2                6  kamkkxfxxuwbdslkwifmmcsiusiuosws   13.800  \n",
       "3                6  kamkkxfxxuwbdslkwifmmcsiusiuosws   13.856  \n",
       "4                6  kamkkxfxxuwbdslkwifmmcsiusiuosws   13.200  \n",
       "\n",
       "[5 rows x 24 columns]"
      ]
     },
     "execution_count": 33,
     "metadata": {},
     "output_type": "execute_result"
    }
   ],
   "source": [
    "test_data_1.head()"
   ]
  },
  {
   "cell_type": "markdown",
   "metadata": {},
   "source": [
    "Create new column"
   ]
  },
  {
   "cell_type": "code",
   "execution_count": 34,
   "metadata": {},
   "outputs": [],
   "source": [
    "#test_data_1['duration'] = test_data_1['date_renewal'] - test_data_1['date_first_active']\n",
    "#just ignore this"
   ]
  },
  {
   "cell_type": "code",
   "execution_count": 35,
   "metadata": {},
   "outputs": [
    {
     "data": {
      "text/plain": [
       "<AxesSubplot:xlabel='forecast_discount_energy', ylabel='Density'>"
      ]
     },
     "execution_count": 35,
     "metadata": {},
     "output_type": "execute_result"
    },
    {
     "data": {
      "image/png": "[encoded data removed]",
      "text/plain": [
       "<Figure size 432x288 with 1 Axes>"
      ]
     },
     "metadata": {
      "needs_background": "light"
     },
     "output_type": "display_data"
    }
   ],
   "source": [
    "sns.distplot(test_data_1['forecast_discount_energy'])"
   ]
  },
  {
   "cell_type": "code",
   "execution_count": 36,
   "metadata": {},
   "outputs": [
    {
     "data": {
      "text/plain": [
       "<AxesSubplot:ylabel='forecast_discount_energy'>"
      ]
     },
     "execution_count": 36,
     "metadata": {},
     "output_type": "execute_result"
    },
    {
     "data": {
      "image/png": "[encoded data removed]",
      "text/plain": [
       "<Figure size 432x288 with 1 Axes>"
      ]
     },
     "metadata": {
      "needs_background": "light"
     },
     "output_type": "display_data"
    }
   ],
   "source": [
    "sns.boxplot(y = 'forecast_discount_energy', data = test_data_1, whis=1.5)"
   ]
  },
  {
   "cell_type": "code",
   "execution_count": 37,
   "metadata": {},
   "outputs": [],
   "source": [
    "test_data_final = test_data_1.drop(columns = ['date_activ', 'date_end', 'date_modif_prod', 'date_renewal'])"
   ]
  },
  {
   "cell_type": "markdown",
   "metadata": {},
   "source": [
    "Declare continuous column"
   ]
  },
  {
   "cell_type": "code",
   "execution_count": 38,
   "metadata": {},
   "outputs": [
    {
     "name": "stdout",
     "output_type": "stream",
     "text": [
      "Index(['cons_12m', 'cons_gas_12m', 'cons_last_month', 'forecast_cons_12m',\n",
      "       'forecast_cons_year', 'forecast_discount_energy',\n",
      "       'forecast_meter_rent_12m', 'forecast_price_energy_p1',\n",
      "       'forecast_price_energy_p2', 'forecast_price_pow_p1', 'imp_cons',\n",
      "       'margin_gross_pow_ele', 'margin_net_pow_ele', 'nb_prod_act',\n",
      "       'net_margin', 'num_years_antig', 'pow_max'],\n",
      "      dtype='object')\n"
     ]
    }
   ],
   "source": [
    "a = test_data_final.select_dtypes(exclude = ['object']).columns\n",
    "print(a)"
   ]
  },
  {
   "cell_type": "markdown",
   "metadata": {},
   "source": [
    "Declare categorical columns"
   ]
  },
  {
   "cell_type": "code",
   "execution_count": 39,
   "metadata": {},
   "outputs": [
    {
     "name": "stdout",
     "output_type": "stream",
     "text": [
      "Index(['id', 'has_gas', 'origin_up'], dtype='object')\n"
     ]
    }
   ],
   "source": [
    "cat = test_data_final.select_dtypes(include = ['object']).columns\n",
    "print(cat)"
   ]
  },
  {
   "cell_type": "code",
   "execution_count": 40,
   "metadata": {},
   "outputs": [],
   "source": [
    "def find_outliers(col):\n",
    "    outliers=[]\n",
    "    q1 = test_data_final[col].quantile(0.25)\n",
    "    q3 = test_data_final[col].quantile(0.75)\n",
    "    iqr = q3-q1\n",
    "    lower_limit = q1 - (1.5*iqr)\n",
    "    upper_limit = q3 + (1.5*iqr)\n",
    "    for out1 in test_data_final[col]:\n",
    "        if out1>upper_limit or out1<lower_limit:\n",
    "            outliers.append(out1)\n",
    "    print(col)\n",
    "    print('{:s}:{:.3f}, {:s} {:.3f}{:s}'.format('#of outliers', len(outliers), 'or', len(outliers)/len(test_data_final) * 100, '%'))"
   ]
  },
  {
   "cell_type": "code",
   "execution_count": 41,
   "metadata": {},
   "outputs": [],
   "source": [
    "def plotchart(col):\n",
    "    fix, (ax1,ax2) = plt.subplots(1,2, figsize = (7,5))\n",
    "    sns.boxplot(data = test_data_final[col], orient = 'v', ax = ax1)\n",
    "    ax1.set_title('Box plot of {}'.format(col))\n",
    "    sns.distplot(test_data_final[col], ax = ax2)\n",
    "    ax2.set_title('Distribution plot of {}'.format(col))"
   ]
  },
  {
   "cell_type": "code",
   "execution_count": 42,
   "metadata": {},
   "outputs": [
    {
     "name": "stdout",
     "output_type": "stream",
     "text": [
      "cons_12m\n",
      "#of outliers:2543.000, or 15.799%\n",
      "cons_gas_12m\n",
      "#of outliers:2926.000, or 18.178%\n",
      "cons_last_month\n",
      "#of outliers:2498.000, or 15.519%\n",
      "forecast_cons_12m\n",
      "#of outliers:1378.000, or 8.561%\n",
      "forecast_cons_year\n",
      "#of outliers:1604.000, or 9.965%\n",
      "forecast_discount_energy\n",
      "#of outliers:705.000, or 4.380%\n",
      "forecast_meter_rent_12m\n",
      "#of outliers:384.000, or 2.386%\n",
      "forecast_price_energy_p1\n",
      "#of outliers:467.000, or 2.901%\n",
      "forecast_price_energy_p2\n",
      "#of outliers:0.000, or 0.000%\n",
      "forecast_price_pow_p1\n",
      "#of outliers:851.000, or 5.287%\n",
      "imp_cons\n",
      "#of outliers:1532.000, or 9.518%\n",
      "margin_gross_pow_ele\n",
      "#of outliers:762.000, or 4.734%\n",
      "margin_net_pow_ele\n",
      "#of outliers:789.000, or 4.902%\n",
      "nb_prod_act\n",
      "#of outliers:3536.000, or 21.968%\n",
      "net_margin\n",
      "#of outliers:1212.000, or 7.530%\n",
      "num_years_antig\n",
      "#of outliers:491.000, or 3.050%\n",
      "pow_max\n",
      "#of outliers:2008.000, or 12.475%\n"
     ]
    },
    {
     "data": {
      "image/png": "[encoded data removed]",
      "text/plain": [
       "<Figure size 504x360 with 2 Axes>"
      ]
     },
     "metadata": {
      "needs_background": "light"
     },
     "output_type": "display_data"
    },
    {
     "data": {
      "image/png": "[encoded data removed]",
      "text/plain": [
       "<Figure size 504x360 with 2 Axes>"
      ]
     },
     "metadata": {
      "needs_background": "light"
     },
     "output_type": "display_data"
    },
    {
     "data": {
      "image/png": "[encoded data removed]",
      "text/plain": [
       "<Figure size 504x360 with 2 Axes>"
      ]
     },
     "metadata": {
      "needs_background": "light"
     },
     "output_type": "display_data"
    },
    {
     "data": {
      "image/png": "[encoded data removed]",
      "text/plain": [
       "<Figure size 504x360 with 2 Axes>"
      ]
     },
     "metadata": {
      "needs_background": "light"
     },
     "output_type": "display_data"
    },
    {
     "data": {
      "image/png": "[encoded data removed]",
      "text/plain": [
       "<Figure size 504x360 with 2 Axes>"
      ]
     },
     "metadata": {
      "needs_background": "light"
     },
     "output_type": "display_data"
    },
    {
     "data": {
      "image/png": "[encoded data removed]",
      "text/plain": [
       "<Figure size 504x360 with 2 Axes>"
      ]
     },
     "metadata": {
      "needs_background": "light"
     },
     "output_type": "display_data"
    },
    {
     "data": {
      "image/png": "[encoded data removed]",
      "text/plain": [
       "<Figure size 504x360 with 2 Axes>"
      ]
     },
     "metadata": {
      "needs_background": "light"
     },
     "output_type": "display_data"
    },
    {
     "data": {
      "image/png": "[encoded data removed]",
      "text/plain": [
       "<Figure size 504x360 with 2 Axes>"
      ]
     },
     "metadata": {
      "needs_background": "light"
     },
     "output_type": "display_data"
    },
    {
     "data": {
      "image/png": "[encoded data removed]",
      "text/plain": [
       "<Figure size 504x360 with 2 Axes>"
      ]
     },
     "metadata": {
      "needs_background": "light"
     },
     "output_type": "display_data"
    },
    {
     "data": {
      "image/png": "[encoded data removed]",
      "text/plain": [
       "<Figure size 504x360 with 2 Axes>"
      ]
     },
     "metadata": {
      "needs_background": "light"
     },
     "output_type": "display_data"
    },
    {
     "data": {
      "image/png": "[encoded data removed]",
      "text/plain": [
       "<Figure size 504x360 with 2 Axes>"
      ]
     },
     "metadata": {
      "needs_background": "light"
     },
     "output_type": "display_data"
    },
    {
     "data": {
      "image/png": "[encoded data removed]",
      "text/plain": [
       "<Figure size 504x360 with 2 Axes>"
      ]
     },
     "metadata": {
      "needs_background": "light"
     },
     "output_type": "display_data"
    },
    {
     "data": {
      "image/png": "[encoded data removed]",
      "text/plain": [
       "<Figure size 504x360 with 2 Axes>"
      ]
     },
     "metadata": {
      "needs_background": "light"
     },
     "output_type": "display_data"
    },
    {
     "data": {
      "image/png": "[encoded data removed]",
      "text/plain": [
       "<Figure size 504x360 with 2 Axes>"
      ]
     },
     "metadata": {
      "needs_background": "light"
     },
     "output_type": "display_data"
    },
    {
     "data": {
      "image/png": "[encoded data removed]",
      "text/plain": [
       "<Figure size 504x360 with 2 Axes>"
      ]
     },
     "metadata": {
      "needs_background": "light"
     },
     "output_type": "display_data"
    },
    {
     "data": {
      "image/png": "[encoded data removed]",
      "text/plain": [
       "<Figure size 504x360 with 2 Axes>"
      ]
     },
     "metadata": {
      "needs_background": "light"
     },
     "output_type": "display_data"
    },
    {
     "data": {
      "image/png": "[encoded data removed]",
      "text/plain": [
       "<Figure size 504x360 with 2 Axes>"
      ]
     },
     "metadata": {
      "needs_background": "light"
     },
     "output_type": "display_data"
    }
   ],
   "source": [
    "for i in a:\n",
    "    find_outliers(i)\n",
    "    plotchart(i)"
   ]
  },
  {
   "cell_type": "code",
   "execution_count": 43,
   "metadata": {},
   "outputs": [
    {
     "data": {
      "image/png": "[encoded data removed]",
      "text/plain": [
       "<Figure size 432x288 with 1 Axes>"
      ]
     },
     "metadata": {
      "needs_background": "light"
     },
     "output_type": "display_data"
    },
    {
     "data": {
      "image/png": "[encoded data removed]",
      "text/plain": [
       "<Figure size 432x288 with 1 Axes>"
      ]
     },
     "metadata": {
      "needs_background": "light"
     },
     "output_type": "display_data"
    },
    {
     "data": {
      "image/png": "[encoded data removed]",
      "text/plain": [
       "<Figure size 432x288 with 1 Axes>"
      ]
     },
     "metadata": {
      "needs_background": "light"
     },
     "output_type": "display_data"
    }
   ],
   "source": [
    "for col in cat:\n",
    "    sns.histplot(data = test_data_final, x=col)\n",
    "    plt.show()"
   ]
  },
  {
   "cell_type": "markdown",
   "metadata": {},
   "source": [
    "preprocess data: one hot encoding"
   ]
  },
  {
   "cell_type": "code",
   "execution_count": 44,
   "metadata": {},
   "outputs": [],
   "source": [
    "test_data_final = pd.get_dummies(test_data_final, columns = [\"has_gas\",\"origin_up\"])"
   ]
  },
  {
   "cell_type": "code",
   "execution_count": 45,
   "metadata": {},
   "outputs": [
    {
     "name": "stdout",
     "output_type": "stream",
     "text": [
      "<class 'pandas.core.frame.DataFrame'>\n",
      "RangeIndex: 16096 entries, 0 to 16095\n",
      "Data columns (total 25 columns):\n",
      " #   Column                                      Non-Null Count  Dtype  \n",
      "---  ------                                      --------------  -----  \n",
      " 0   id                                          16096 non-null  object \n",
      " 1   cons_12m                                    16096 non-null  int64  \n",
      " 2   cons_gas_12m                                16096 non-null  int64  \n",
      " 3   cons_last_month                             16096 non-null  int64  \n",
      " 4   forecast_cons_12m                           16096 non-null  float64\n",
      " 5   forecast_cons_year                          16096 non-null  int64  \n",
      " 6   forecast_discount_energy                    16096 non-null  float64\n",
      " 7   forecast_meter_rent_12m                     16096 non-null  float64\n",
      " 8   forecast_price_energy_p1                    16096 non-null  float64\n",
      " 9   forecast_price_energy_p2                    16096 non-null  float64\n",
      " 10  forecast_price_pow_p1                       16096 non-null  float64\n",
      " 11  imp_cons                                    16096 non-null  float64\n",
      " 12  margin_gross_pow_ele                        16096 non-null  float64\n",
      " 13  margin_net_pow_ele                          16096 non-null  float64\n",
      " 14  nb_prod_act                                 16096 non-null  int64  \n",
      " 15  net_margin                                  16096 non-null  float64\n",
      " 16  num_years_antig                             16096 non-null  int64  \n",
      " 17  pow_max                                     16096 non-null  float64\n",
      " 18  has_gas_f                                   16096 non-null  uint8  \n",
      " 19  has_gas_t                                   16096 non-null  uint8  \n",
      " 20  origin_up_ewxeelcelemmiwuafmddpobolfuxioce  16096 non-null  uint8  \n",
      " 21  origin_up_kamkkxfxxuwbdslkwifmmcsiusiuosws  16096 non-null  uint8  \n",
      " 22  origin_up_ldkssxwpmemidmecebumciepifcamkci  16096 non-null  uint8  \n",
      " 23  origin_up_lxidpiddsbxsbosboudacockeimpuepw  16096 non-null  uint8  \n",
      " 24  origin_up_usapbepcfoloekilkwsdiboslwaxobdp  16096 non-null  uint8  \n",
      "dtypes: float64(11), int64(6), object(1), uint8(7)\n",
      "memory usage: 2.3+ MB\n"
     ]
    }
   ],
   "source": [
    "test_data_final.info()"
   ]
  },
  {
   "cell_type": "code",
   "execution_count": 46,
   "metadata": {},
   "outputs": [],
   "source": [
    "output = pd.read_csv('ml_case_training_output.csv')"
   ]
  },
  {
   "cell_type": "code",
   "execution_count": 47,
   "metadata": {},
   "outputs": [],
   "source": [
    "X = test_data_final.drop(columns = ['id'])\n",
    "y = output['churn']"
   ]
  },
  {
   "cell_type": "markdown",
   "metadata": {},
   "source": [
    "Initialization"
   ]
  },
  {
   "cell_type": "code",
   "execution_count": 48,
   "metadata": {},
   "outputs": [
    {
     "name": "stdout",
     "output_type": "stream",
     "text": [
      "<class 'pandas.core.frame.DataFrame'>\n",
      "RangeIndex: 16096 entries, 0 to 16095\n",
      "Data columns (total 24 columns):\n",
      " #   Column                                      Non-Null Count  Dtype  \n",
      "---  ------                                      --------------  -----  \n",
      " 0   cons_12m                                    16096 non-null  int64  \n",
      " 1   cons_gas_12m                                16096 non-null  int64  \n",
      " 2   cons_last_month                             16096 non-null  int64  \n",
      " 3   forecast_cons_12m                           16096 non-null  float64\n",
      " 4   forecast_cons_year                          16096 non-null  int64  \n",
      " 5   forecast_discount_energy                    16096 non-null  float64\n",
      " 6   forecast_meter_rent_12m                     16096 non-null  float64\n",
      " 7   forecast_price_energy_p1                    16096 non-null  float64\n",
      " 8   forecast_price_energy_p2                    16096 non-null  float64\n",
      " 9   forecast_price_pow_p1                       16096 non-null  float64\n",
      " 10  imp_cons                                    16096 non-null  float64\n",
      " 11  margin_gross_pow_ele                        16096 non-null  float64\n",
      " 12  margin_net_pow_ele                          16096 non-null  float64\n",
      " 13  nb_prod_act                                 16096 non-null  int64  \n",
      " 14  net_margin                                  16096 non-null  float64\n",
      " 15  num_years_antig                             16096 non-null  int64  \n",
      " 16  pow_max                                     16096 non-null  float64\n",
      " 17  has_gas_f                                   16096 non-null  uint8  \n",
      " 18  has_gas_t                                   16096 non-null  uint8  \n",
      " 19  origin_up_ewxeelcelemmiwuafmddpobolfuxioce  16096 non-null  uint8  \n",
      " 20  origin_up_kamkkxfxxuwbdslkwifmmcsiusiuosws  16096 non-null  uint8  \n",
      " 21  origin_up_ldkssxwpmemidmecebumciepifcamkci  16096 non-null  uint8  \n",
      " 22  origin_up_lxidpiddsbxsbosboudacockeimpuepw  16096 non-null  uint8  \n",
      " 23  origin_up_usapbepcfoloekilkwsdiboslwaxobdp  16096 non-null  uint8  \n",
      "dtypes: float64(11), int64(6), uint8(7)\n",
      "memory usage: 2.2 MB\n"
     ]
    }
   ],
   "source": [
    "X.info()"
   ]
  },
  {
   "cell_type": "code",
   "execution_count": 49,
   "metadata": {},
   "outputs": [
    {
     "data": {
      "text/plain": [
       "(16096,)"
      ]
     },
     "execution_count": 49,
     "metadata": {},
     "output_type": "execute_result"
    }
   ],
   "source": [
    "y.shape"
   ]
  },
  {
   "cell_type": "code",
   "execution_count": 50,
   "metadata": {},
   "outputs": [
    {
     "data": {
      "text/plain": [
       "0    14501\n",
       "1     1595\n",
       "Name: churn, dtype: int64"
      ]
     },
     "execution_count": 50,
     "metadata": {},
     "output_type": "execute_result"
    }
   ],
   "source": [
    "y.value_counts()"
   ]
  },
  {
   "cell_type": "markdown",
   "metadata": {},
   "source": [
    "Class Imbalance\n",
    "-since there is imbalance in output category, we apply class imbalance technique"
   ]
  },
  {
   "cell_type": "code",
   "execution_count": 51,
   "metadata": {},
   "outputs": [],
   "source": [
    "from imblearn.over_sampling import SMOTE\n",
    "sm = SMOTE(random_state = 42, sampling_strategy = 1.0)\n",
    "X_sm, y_sm = sm.fit_sample(X, y)"
   ]
  },
  {
   "cell_type": "code",
   "execution_count": 52,
   "metadata": {},
   "outputs": [],
   "source": [
    "from sklearn.model_selection import train_test_split\n",
    "X_train, X_test, y_train, y_test = train_test_split(X_sm, y_sm, test_size = 0.2, random_state = 42, stratify = y_sm)"
   ]
  },
  {
   "cell_type": "markdown",
   "metadata": {},
   "source": [
    "Apply several models to the preprocessed data"
   ]
  },
  {
   "cell_type": "code",
   "execution_count": 53,
   "metadata": {},
   "outputs": [],
   "source": [
    "from sklearn.metrics import accuracy_score, classification_report, f1_score\n",
    "from sklearn.tree import DecisionTreeClassifier\n",
    "from sklearn.ensemble import RandomForestClassifier\n",
    "from sklearn.neighbors import KNeighborsClassifier\n",
    "from xgboost import XGBClassifier\n",
    "from sklearn.linear_model import LogisticRegression"
   ]
  },
  {
   "cell_type": "code",
   "execution_count": 54,
   "metadata": {},
   "outputs": [
    {
     "name": "stdout",
     "output_type": "stream",
     "text": [
      "Accuracy:Decision Tree:0.877\n",
      "F1:Decision Tree:0.879\n",
      "\n",
      "Accuracy:Random Forest:0.944\n",
      "F1:Random Forest:0.942\n",
      "\n",
      "Accuracy:KNN:0.789\n",
      "F1:KNN:0.810\n",
      "\n",
      "[19:04:56] WARNING: C:/Users/Administrator/workspace/xgboost-win64_release_1.3.0/src/learner.cc:1061: Starting in XGBoost 1.3.0, the default evaluation metric used with the objective 'binary:logistic' was changed from 'error' to 'logloss'. Explicitly set eval_metric if you'd like to restore the old behavior.\n",
      "Accuracy:XGB:0.940\n",
      "F1:XGB:0.938\n",
      "\n",
      "Accuracy:Logistic Regression:0.544\n",
      "F1:Logistic Regression:0.663\n",
      "\n"
     ]
    }
   ],
   "source": [
    "dt = DecisionTreeClassifier()\n",
    "rfc = RandomForestClassifier()\n",
    "knn = KNeighborsClassifier()\n",
    "xgb = XGBClassifier()\n",
    "lr = LogisticRegression()\n",
    "\n",
    "model = [('Decision Tree', dt),\n",
    "         ('Random Forest', rfc),\n",
    "         ('KNN', knn),\n",
    "         ('XGB', xgb),\n",
    "         ('Logistic Regression', lr)]\n",
    "\n",
    "for clf_name, classifier in model:\n",
    "  classifier.fit(X_train, y_train)\n",
    "  y_pred = classifier.predict(X_test)\n",
    "  print('{:s}:{:s}:{:.3f}'.format('Accuracy', clf_name, accuracy_score(y_test, y_pred)))\n",
    "  print('{:s}:{:s}:{:.3f}'.format('F1', clf_name, f1_score(y_test, y_pred)))\n",
    "  print(\"\")"
   ]
  },
  {
   "cell_type": "markdown",
   "metadata": {},
   "source": [
    "From the calculation above, we can take random forest as the model that gives the best metrics. Therefore we can choose random forest as predictor for the test data set"
   ]
  },
  {
   "cell_type": "code",
   "execution_count": null,
   "metadata": {},
   "outputs": [],
   "source": []
  }
 ],
 "metadata": {
  "kernelspec": {
   "display_name": "Python 3",
   "language": "python",
   "name": "python3"
  },
  "language_info": {
   "codemirror_mode": {
    "name": "ipython",
    "version": 3
   },
   "file_extension": ".py",
   "mimetype": "text/x-python",
   "name": "python",
   "nbconvert_exporter": "python",
   "pygments_lexer": "ipython3",
   "version": "3.7.6"
  }
 },
 "nbformat": 4,
 "nbformat_minor": 4
}
